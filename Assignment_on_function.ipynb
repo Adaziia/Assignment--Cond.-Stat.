{
  "nbformat": 4,
  "nbformat_minor": 0,
  "metadata": {
    "colab": {
      "provenance": []
    },
    "kernelspec": {
      "name": "python3",
      "display_name": "Python 3"
    },
    "language_info": {
      "name": "python"
    }
  },
  "cells": [
    {
      "cell_type": "markdown",
      "source": [
        "1. Define a function that accepts a number and returns whether the no. is even or odd."
      ],
      "metadata": {
        "id": "AWhSz64mHYfK"
      }
    },
    {
      "cell_type": "code",
      "source": [
        "num=int(input(\"Enter the value: \"))\n",
        "def compute(num):\n",
        "  if num%2==0:\n",
        "    print(\"This number is even\")\n",
        "  else:\n",
        "    print(\"This number is odd\")"
      ],
      "metadata": {
        "id": "o9YOFYmEHv6q",
        "colab": {
          "base_uri": "https://localhost:8080/"
        },
        "outputId": "7bdf1b5b-301e-49fc-a47b-542023ca0148"
      },
      "execution_count": null,
      "outputs": [
        {
          "name": "stdout",
          "output_type": "stream",
          "text": [
            "Enter the value: 45\n"
          ]
        }
      ]
    },
    {
      "cell_type": "code",
      "source": [
        "compute(num)"
      ],
      "metadata": {
        "id": "LeKhNTvKvj1T",
        "colab": {
          "base_uri": "https://localhost:8080/"
        },
        "outputId": "676a64a6-ce90-4077-a7d0-5e48ec20f236"
      },
      "execution_count": null,
      "outputs": [
        {
          "output_type": "stream",
          "name": "stdout",
          "text": [
            "This number is odd\n"
          ]
        }
      ]
    },
    {
      "cell_type": "markdown",
      "source": [
        "2. Define a function to create and print a list where the value are square of numbers between 1 and 30 (both included)"
      ],
      "metadata": {
        "id": "HuIQJbizH4XU"
      }
    },
    {
      "cell_type": "code",
      "source": [
        "def Sq_num(i):\n",
        "  for i in range(1,31):\n",
        "    i=i**2\n",
        "    print(i,end=\" \")"
      ],
      "metadata": {
        "id": "NtU6pKCbxND2"
      },
      "execution_count": null,
      "outputs": []
    },
    {
      "cell_type": "code",
      "source": [
        "Sq_num(i)"
      ],
      "metadata": {
        "colab": {
          "base_uri": "https://localhost:8080/"
        },
        "id": "uW_YcLq8xrWP",
        "outputId": "d517de73-554a-4301-f21c-4bcdd8b885fd"
      },
      "execution_count": null,
      "outputs": [
        {
          "output_type": "stream",
          "name": "stdout",
          "text": [
            "1 4 9 16 25 36 49 64 81 100 121 144 169 196 225 256 289 324 361 400 441 484 529 576 625 676 729 784 841 900 "
          ]
        }
      ]
    },
    {
      "cell_type": "markdown",
      "source": [
        "3. Define a function, shut_down that takes one parameter. Then, if the shut_down function receives a value equal to yes, it should print \"Shuttingt down\". Alternatively, if value is equal to \"no\", then the function should print \"Shut_down aborted\". Finally, if shut_down gets anything other than those inputs, the function should print \"Sorry\"."
      ],
      "metadata": {
        "id": "Q8aO-zK5N52w"
      }
    },
    {
      "cell_type": "code",
      "source": [
        "A= input(\"Enter the value:\")\n",
        "def shut_down(A):\n",
        "  if A in \"yes\":\n",
        "    print(\"Shutting down\")\n",
        "  elif A in \"no\":\n",
        "    print(\"Shut_down aborted\")\n",
        "  else:\n",
        "    print(\"Sorry\")\n"
      ],
      "metadata": {
        "colab": {
          "base_uri": "https://localhost:8080/"
        },
        "id": "_cXntGvVOyNg",
        "outputId": "c77da985-dc14-44a0-fe82-d374b0a84b95"
      },
      "execution_count": null,
      "outputs": [
        {
          "name": "stdout",
          "output_type": "stream",
          "text": [
            "Enter the value:no\n"
          ]
        }
      ]
    },
    {
      "cell_type": "code",
      "source": [
        "shut_down(A)"
      ],
      "metadata": {
        "colab": {
          "base_uri": "https://localhost:8080/"
        },
        "id": "KvYJrB7Z1GwW",
        "outputId": "5d4eb5f7-c43a-4ed0-cc91-3f532865d8a5"
      },
      "execution_count": null,
      "outputs": [
        {
          "output_type": "stream",
          "name": "stdout",
          "text": [
            "Shut_down aborted\n"
          ]
        }
      ]
    },
    {
      "cell_type": "markdown",
      "source": [
        "4. Define a function called \"by_three\" that takes a parameter called number. If that the number is divisible by 3, \"by_three\" should print the cube of the number. Otherwise by three should be print false."
      ],
      "metadata": {
        "id": "CbSg5w6XTpZ_"
      }
    },
    {
      "cell_type": "code",
      "source": [
        "num=int(input(\"Enter the value:\"))\n",
        "def by_three(num):\n",
        "  if num%3==0:\n",
        "    print(\"The number is\",num**3)\n",
        "  else:\n",
        "    print(\"False\")"
      ],
      "metadata": {
        "id": "leWLZ_4vRPMw",
        "colab": {
          "base_uri": "https://localhost:8080/"
        },
        "outputId": "88e99bd9-ba9c-4c8e-cfe6-a7c93a8bd11a"
      },
      "execution_count": null,
      "outputs": [
        {
          "name": "stdout",
          "output_type": "stream",
          "text": [
            "Enter the value:12\n"
          ]
        }
      ]
    },
    {
      "cell_type": "code",
      "source": [
        "by_three(num)"
      ],
      "metadata": {
        "colab": {
          "base_uri": "https://localhost:8080/"
        },
        "id": "ZU3tp-Dp2fG8",
        "outputId": "8ec5b30a-d374-41bd-82f4-3d3e9f3eed80"
      },
      "execution_count": null,
      "outputs": [
        {
          "output_type": "stream",
          "name": "stdout",
          "text": [
            "The number is 1728\n"
          ]
        }
      ]
    },
    {
      "cell_type": "markdown",
      "source": [
        "5. Define a function that takes a list and prints a new list with no duplication element gives in the first list"
      ],
      "metadata": {
        "id": "Nxj-LMv0VdYs"
      }
    },
    {
      "cell_type": "code",
      "source": [
        "My_List=[1,2,3,6,9,9,6,7,2,1,3,4,6,7]\n",
        "def remove_duplicates(My_List):\n",
        "  print(set(My_List))"
      ],
      "metadata": {
        "id": "SfbiEmsoVr1J"
      },
      "execution_count": null,
      "outputs": []
    },
    {
      "cell_type": "code",
      "source": [
        "remove_duplicates(My_List)"
      ],
      "metadata": {
        "colab": {
          "base_uri": "https://localhost:8080/"
        },
        "id": "7Ht4GFad5ML3",
        "outputId": "8d77b1e9-29e8-411c-fdea-92de30158116"
      },
      "execution_count": null,
      "outputs": [
        {
          "output_type": "stream",
          "name": "stdout",
          "text": [
            "{1, 2, 3, 4, 6, 7, 9}\n"
          ]
        }
      ]
    }
  ]
}