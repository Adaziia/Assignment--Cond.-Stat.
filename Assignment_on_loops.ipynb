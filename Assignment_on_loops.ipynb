{
  "cells": [
    {
      "cell_type": "markdown",
      "metadata": {
        "id": "_U8RuKMPLX5_"
      },
      "source": []
    },
    {
      "cell_type": "markdown",
      "metadata": {
        "id": "ii03rZ0oLZWp"
      },
      "source": [
        "1. Write a program which accepts month's name as input and display the days as output."
      ]
    },
    {
      "cell_type": "code",
      "execution_count": null,
      "metadata": {
        "colab": {
          "base_uri": "https://localhost:8080/"
        },
        "id": "ziwe8Lr-LT6I",
        "outputId": "1135c52d-3f38-440f-ccbe-71083ccc845f"
      },
      "outputs": [
        {
          "name": "stdout",
          "output_type": "stream",
          "text": [
            "Enter the month: 8\n"
          ]
        }
      ],
      "source": [
        "Month=int(input(\"Enter the month: \"))\n",
        "def Month_days(Month):\n",
        "  if Month in [1,3,5,7,8,10,12]:\n",
        "    print(\"31 days\")\n",
        "  elif Month in [4,6,9,11]:\n",
        "    print(\"30 days\")\n",
        "  elif Month==2:\n",
        "    print(\"28 days\")\n",
        "  else:\n",
        "    print(\"Invalid number\")\n"
      ]
    },
    {
      "cell_type": "code",
      "source": [
        "Month_days(Month)"
      ],
      "metadata": {
        "colab": {
          "base_uri": "https://localhost:8080/"
        },
        "id": "OemOEyHfqJ1v",
        "outputId": "1e9cb138-3f1d-4b65-9493-c62403181f1a"
      },
      "execution_count": null,
      "outputs": [
        {
          "output_type": "stream",
          "name": "stdout",
          "text": [
            "31 days\n"
          ]
        }
      ]
    },
    {
      "cell_type": "markdown",
      "source": [
        "2. Take any word as input from the user and count the number of the vowels in the word."
      ],
      "metadata": {
        "id": "q5Oe_hsfNO2U"
      }
    },
    {
      "cell_type": "code",
      "source": [
        "Word= input(\"Enter a word:\")\n",
        "def Vowels_count(Word):\n",
        " Vowels=\"aeiou\"\n",
        " count=0\n",
        " for char in Word:\n",
        "  if char in Vowels:\n",
        "   count+=1\n",
        " print(\"The number of vowel contains is: \",count)\n",
        "\n",
        "\n"
      ],
      "metadata": {
        "id": "s3cHFxQkNOW6",
        "colab": {
          "base_uri": "https://localhost:8080/"
        },
        "outputId": "38bb7afd-6ae9-4842-d462-c78d518ec41a"
      },
      "execution_count": null,
      "outputs": [
        {
          "name": "stdout",
          "output_type": "stream",
          "text": [
            "Enter a word:environment\n"
          ]
        }
      ]
    },
    {
      "cell_type": "code",
      "source": [
        "Vowels_count(Word)"
      ],
      "metadata": {
        "colab": {
          "base_uri": "https://localhost:8080/"
        },
        "id": "oZQOZPHSkMlR",
        "outputId": "22aa142f-6276-4435-c90d-0a81d4853ab2"
      },
      "execution_count": null,
      "outputs": [
        {
          "output_type": "stream",
          "name": "stdout",
          "text": [
            "The number of vowel contains is:  4\n"
          ]
        }
      ]
    },
    {
      "cell_type": "markdown",
      "source": [
        "3. Write a program to separate even and odd numbers in the two distinct list of numbers in your choice."
      ],
      "metadata": {
        "id": "e-AthBebT5X-"
      }
    },
    {
      "cell_type": "code",
      "source": [
        "My_list=[2,3,5,6,7,8,4,5,8,9,12,15,19,20,15,26,30]\n",
        "for L in My_list:\n",
        "  if L%2==0:    # To display only the even number (divisible by 2)\n",
        "    print(L,end=\" \")\n"
      ],
      "metadata": {
        "colab": {
          "base_uri": "https://localhost:8080/"
        },
        "id": "ZuZhNkJXUMDK",
        "outputId": "13ef6835-d218-4dd3-f385-6db5029b2ae9"
      },
      "execution_count": null,
      "outputs": [
        {
          "output_type": "stream",
          "name": "stdout",
          "text": [
            "2 6 8 4 8 12 20 26 30 "
          ]
        }
      ]
    },
    {
      "cell_type": "markdown",
      "source": [
        "4. Write a program to appends datatype of elements from the list to a separate list."
      ],
      "metadata": {
        "id": "i4o8WhFEU_Z1"
      }
    },
    {
      "cell_type": "code",
      "source": [
        "L=[2,3,\"String\",\"List\",\"Tuples\",0.89,-67]"
      ],
      "metadata": {
        "id": "H98ttWW2VNvw"
      },
      "execution_count": 1,
      "outputs": []
    },
    {
      "cell_type": "code",
      "source": [
        "def My_list(L):\n",
        " L.append(list([2,3,4,\"Interger\",\"Float\",\"Complex\"]))\n",
        " print(L)"
      ],
      "metadata": {
        "id": "xdARL3GqXcc5"
      },
      "execution_count": 2,
      "outputs": []
    },
    {
      "cell_type": "code",
      "source": [
        "My_list(L)"
      ],
      "metadata": {
        "colab": {
          "base_uri": "https://localhost:8080/"
        },
        "id": "dnW-xCrWpPLb",
        "outputId": "1e835352-0589-4781-e74a-6de8f67556eb"
      },
      "execution_count": 3,
      "outputs": [
        {
          "output_type": "stream",
          "name": "stdout",
          "text": [
            "[2, 3, 'String', 'List', 'Tuples', 0.89, -67, [2, 3, 4, 'Interger', 'Float', 'Complex']]\n"
          ]
        }
      ]
    },
    {
      "cell_type": "markdown",
      "source": [
        "5. Write a program to display only those nos. from a list that satisfies the following conditions.\n",
        "- The number must be divisible by 7\n",
        "- If the number is 140 then skip it and move to the next number in the list.\n",
        "- If the number in the list is greater than 630 then stop the loop."
      ],
      "metadata": {
        "id": "_-6RJi8sXthm"
      }
    },
    {
      "cell_type": "code",
      "source": [
        "Num=[1,5,7,14,20,28,35,47,54,63,70]\n",
        "for num in Num: # Numbers will display only which is divisible by 7 from the list.\n",
        "   if num%7==0:\n",
        "    print(num,end=\" \")"
      ],
      "metadata": {
        "colab": {
          "base_uri": "https://localhost:8080/"
        },
        "id": "Fxs1oYN9Y6Cp",
        "outputId": "8f0b268b-3702-48c5-ebda-280e42073af9"
      },
      "execution_count": null,
      "outputs": [
        {
          "output_type": "stream",
          "name": "stdout",
          "text": [
            "7 14 28 35 63 70 "
          ]
        }
      ]
    },
    {
      "cell_type": "code",
      "source": [
        "Num=[100,110,120,130,140,150,160,170,180,190,200] # 140 number will be skip\n",
        "for Numbers in Num:\n",
        "  if Numbers==140:\n",
        "    continue\n",
        "  print(Numbers,end=\" \")\n"
      ],
      "metadata": {
        "id": "pHnLNBHwalgl",
        "colab": {
          "base_uri": "https://localhost:8080/"
        },
        "outputId": "2c42bc27-e426-4941-c7aa-c3d4cfb1fbbb"
      },
      "execution_count": null,
      "outputs": [
        {
          "output_type": "stream",
          "name": "stdout",
          "text": [
            "100 110 120 130 150 160 170 180 190 200 "
          ]
        }
      ]
    },
    {
      "cell_type": "code",
      "source": [
        "Num=[600,610,620,630,640,650,660,670,680,690]\n",
        "for numbers in Num: # all the numbers  which is greater than 630 will stop.\n",
        "  if numbers>630:\n",
        "    break\n",
        "  print(numbers,end=\" \")"
      ],
      "metadata": {
        "colab": {
          "base_uri": "https://localhost:8080/"
        },
        "id": "LfkpnGH1cShL",
        "outputId": "f8dc5745-17ea-4177-9ca1-c5b18c4cbfe7"
      },
      "execution_count": null,
      "outputs": [
        {
          "output_type": "stream",
          "name": "stdout",
          "text": [
            "600 610 620 630 "
          ]
        }
      ]
    }
  ],
  "metadata": {
    "colab": {
      "provenance": []
    },
    "kernelspec": {
      "display_name": "Python 3",
      "name": "python3"
    },
    "language_info": {
      "name": "python"
    }
  },
  "nbformat": 4,
  "nbformat_minor": 0
}