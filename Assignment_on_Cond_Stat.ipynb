{
  "nbformat": 4,
  "nbformat_minor": 0,
  "metadata": {
    "colab": {
      "provenance": []
    },
    "kernelspec": {
      "name": "python3",
      "display_name": "Python 3"
    },
    "language_info": {
      "name": "python"
    }
  },
  "cells": [
    {
      "cell_type": "markdown",
      "source": [
        "1. Take three numbers x, y and z as input from the user and check which number is greater."
      ],
      "metadata": {
        "id": "1DqXC1e2kxRz"
      }
    },
    {
      "cell_type": "code",
      "source": [
        "x=int(input(\"Enter the number x: \"))\n",
        "y=int(input(\"Enter the number y: \"))\n",
        "z=int(input(\"Enter the number z: \"))\n",
        "if x>=y and x>=z:\n",
        "  print(\"x is greater than y and z\")\n",
        "elif y>=x and y>=z:\n",
        "  print(\"y is greater than x and z \")\n",
        "else:\n",
        "  print(\"z is greater than x and y \")\n"
      ],
      "metadata": {
        "colab": {
          "base_uri": "https://localhost:8080/"
        },
        "id": "XOQEqfS7k_5J",
        "outputId": "852564fb-e12c-48a2-f1f5-e414ae6002ee"
      },
      "execution_count": null,
      "outputs": [
        {
          "output_type": "stream",
          "name": "stdout",
          "text": [
            "Enter the number x: 34\n",
            "Enter the number y: 60\n",
            "Enter the number z: 89\n",
            "z is greater than x and y \n"
          ]
        }
      ]
    },
    {
      "cell_type": "markdown",
      "source": [
        "2. Take an alphabet as input from the user and check if the alphabet is a vowel, consonant or an exception."
      ],
      "metadata": {
        "id": "JViFU0MCqS74"
      }
    },
    {
      "cell_type": "code",
      "source": [
        "A=input(\"Enter the alphabet: \")\n",
        "if A in [\"a\",\"e\",\"i\",\"o\",\"u\"]:\n",
        "  print(\"This is vowel alphabet.\")\n",
        "elif A in [\"h\",\"y\"]:\n",
        "  print(\"This is exception alphabet.\")\n",
        "else:\n",
        "  print(\"This is consonant alphabet.\")"
      ],
      "metadata": {
        "colab": {
          "base_uri": "https://localhost:8080/"
        },
        "id": "SNY5WtXSqPir",
        "outputId": "2c61df3a-a88d-4d29-9ceb-314b3c3cb88a"
      },
      "execution_count": null,
      "outputs": [
        {
          "output_type": "stream",
          "name": "stdout",
          "text": [
            "Enter the alphabet: f\n",
            "This is consonant alphabet.\n"
          ]
        }
      ]
    },
    {
      "cell_type": "markdown",
      "source": [
        "3. Write a program to check whether the number given by a user is divible by 2 and 3 both"
      ],
      "metadata": {
        "id": "JzyWr8E5ysEU"
      }
    },
    {
      "cell_type": "code",
      "source": [
        "a=int(input(\"Enter the number: \"))\n",
        "if a%2==0:\n",
        "  print(\"This number is divisible by 2\")\n",
        "elif a%3==0:\n",
        "  print(\"This number is divisible by 3\")\n",
        "else:\n",
        "  print(\"This number is not divisible by both 2 and 3\")"
      ],
      "metadata": {
        "colab": {
          "base_uri": "https://localhost:8080/"
        },
        "id": "Ek17TZKTy-ho",
        "outputId": "456712e8-7579-4c81-82ca-fd4f3fd34dc5"
      },
      "execution_count": null,
      "outputs": [
        {
          "output_type": "stream",
          "name": "stdout",
          "text": [
            "Enter the number: 15\n",
            "This number is divisible by 3\n"
          ]
        }
      ]
    },
    {
      "cell_type": "markdown",
      "source": [
        "4. Write a program to accept the cost price(CP) of a bike as input and display the road tax to be paid according to the following crietiria\n",
        "- CP=100000 tax=15%\n",
        "- CP= Between 50000 to 100000 tax=10%\n",
        "- Cp= Less than 50000 tax=5%"
      ],
      "metadata": {
        "id": "_eH4rrn00hh4"
      }
    },
    {
      "cell_type": "code",
      "source": [
        "CP=int(input(\"Enter the cost of the bike: \"))\n",
        "def Road_Tax(CP):\n",
        " if CP==100000:\n",
        "   print(\"The road tax to be paid is \",0.15*CP)\n",
        " elif CP>50000 and CP<100000:\n",
        "   print(\"The road tax to be paid is \",0.01*CP)\n",
        " else:\n",
        "   print(\"The road tax to be paid is\",0.05*CP)"
      ],
      "metadata": {
        "colab": {
          "base_uri": "https://localhost:8080/"
        },
        "id": "MuedUUmw1QNM",
        "outputId": "137d7205-924f-48b5-d974-11f6754d6b17"
      },
      "execution_count": null,
      "outputs": [
        {
          "name": "stdout",
          "output_type": "stream",
          "text": [
            "Enter the cost of the bike: 40000\n"
          ]
        }
      ]
    },
    {
      "cell_type": "code",
      "source": [
        "Road_Tax(CP)"
      ],
      "metadata": {
        "colab": {
          "base_uri": "https://localhost:8080/"
        },
        "id": "uZr0yWI8j7eN",
        "outputId": "6486ee6f-8449-484d-caa4-a6bc249ea1a2"
      },
      "execution_count": null,
      "outputs": [
        {
          "output_type": "stream",
          "name": "stdout",
          "text": [
            "The road tax to be paid is 2000.0\n"
          ]
        }
      ]
    },
    {
      "cell_type": "markdown",
      "source": [
        "5. Write a program to calculate the electricity bill by accepting the number of units consumed by the user as input. Use the following price chart for reference:\n",
        "- Price of first 100 units- no charge\n",
        "- Price of next 100 units- Rs 5 per unit\n",
        "- After 200 units - Rs 10 per unit"
      ],
      "metadata": {
        "id": "GtR1dD3F81Cg"
      }
    },
    {
      "cell_type": "code",
      "source": [
        "Unit=int(input(\"Enter the Electricity bill units consumed by the user: \"))\n",
        "if Unit<=100:\n",
        "  print(\"There is no charge.\")\n",
        "elif Unit<=200:\n",
        "  print(\"Payment of Rs.5 per unit\",Unit*5)\n",
        "else:\n",
        "  print(\"Payment of Rs.10 per unit\",Unit*10)"
      ],
      "metadata": {
        "colab": {
          "base_uri": "https://localhost:8080/"
        },
        "id": "oDjh_jMa9zlG",
        "outputId": "b7d9d388-a3e5-4782-a70a-f1f2dbda712a"
      },
      "execution_count": null,
      "outputs": [
        {
          "output_type": "stream",
          "name": "stdout",
          "text": [
            "Enter the Electricity bill units consumed by the user: 250\n",
            "Payment of Rs.10 per unit 2500\n"
          ]
        }
      ]
    }
  ]
}